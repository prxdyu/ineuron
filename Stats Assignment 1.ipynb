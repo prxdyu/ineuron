{
 "cells": [
  {
   "cell_type": "code",
   "execution_count": 3,
   "id": "0d2cf6d1",
   "metadata": {},
   "outputs": [],
   "source": [
    "import numpy as np\n",
    "import math"
   ]
  },
  {
   "cell_type": "markdown",
   "id": "d3b747ee",
   "metadata": {},
   "source": [
    "### Problem statement 1\n",
    "\n",
    "The marks awarded for an assignment set for a Year 8 class of 20 students were as\n",
    "follows:\n",
    "6 7 5 7 7 8 7 6 9 7 4 10 6 8 8 9 5 6 4 8"
   ]
  },
  {
   "cell_type": "code",
   "execution_count": 6,
   "id": "0ce754b3",
   "metadata": {},
   "outputs": [
    {
     "name": "stdout",
     "output_type": "stream",
     "text": [
      " Mean:6.095238095238095\n",
      " Median:7.0\n",
      " Std Dev:2.2867061340081847\n"
     ]
    }
   ],
   "source": [
    "marks=[6,7 ,5, 7, 7, 8, 7, 6, 9, 7, 4, 1,0 ,6 ,8 ,8 ,9 ,5 ,6 ,4 ,8]\n",
    "\n",
    "mean_marks=np.mean(marks)\n",
    "median_marks=np.median(marks)\n",
    "std_dev_marks=np.std(marks)\n",
    "\n",
    "print(f\" Mean:{mean_marks}\\n Median:{median_marks}\\n Std Dev:{std_dev_marks}\")"
   ]
  },
  {
   "cell_type": "markdown",
   "id": "399a41c0",
   "metadata": {},
   "source": [
    "## Problem statement 2\n",
    "\n",
    "The number of calls from motorists per day for roadside service was recorded for a\n",
    "particular month:\n",
    "28, 122, 217, 130, 120, 86, 80, 90, 140, 120, 70, 40, 145, 113, 90, 68, 174, 194, 170,\n",
    "100, 75, 104, 97, 75,\n",
    "123, 100, 75, 104, 97, 75, 123, 100, 89, 120, 109"
   ]
  },
  {
   "cell_type": "code",
   "execution_count": 10,
   "id": "976e20d4",
   "metadata": {},
   "outputs": [
    {
     "name": "stdout",
     "output_type": "stream",
     "text": [
      " Mean:107.51428571428572\n",
      " Median:100.0\n",
      " Std Dev:38.77287080168403\n"
     ]
    }
   ],
   "source": [
    "calls=[28, 122, 217, 130, 120, 86, 80, 90, 140, 120, 70, 40, 145, 113, 90, 68, 174, 194, 170,\n",
    "100, 75, 104, 97, 75,123, 100, 75, 104, 97, 75, 123, 100, 89, 120, 109]\n",
    "\n",
    "mean_calls=np.mean(calls)\n",
    "median_calls=np.median(calls)\n",
    "std_dev_calls=np.std(calls)\n",
    "\n",
    "print(f\" Mean:{mean_calls}\\n Median:{median_calls}\\n Std Dev:{std_dev_calls}\")"
   ]
  },
  {
   "cell_type": "markdown",
   "id": "55c19f05",
   "metadata": {},
   "source": [
    "## Problem Statement 3\n",
    "\n",
    "The number of times I go to the gym in weekdays, are given below along with its\n",
    "associated probability:\n",
    "x = 0, 1, 2, 3, 4, 5\n",
    "f(x) = 0.09, 0.15, 0.40, 0.25, 0.10, 0.01\n",
    "Calculate the mean no. of workouts in a week. Also evaluate the variance involved in\n",
    "it."
   ]
  },
  {
   "cell_type": "code",
   "execution_count": 26,
   "id": "0f47da48",
   "metadata": {},
   "outputs": [
    {
     "name": "stdout",
     "output_type": "stream",
     "text": [
      " Mean no. of workouts in a week:2.15\n",
      " Variance:1.2275\n"
     ]
    }
   ],
   "source": [
    "x=np.array([0, 1, 2, 3, 4, 5])\n",
    "f_x=np.array([0.09, 0.15, 0.40, 0.25, 0.10, 0.01])\n",
    "\n",
    "#calculating expectation of Random Variable X\n",
    "expected_x=np.sum(x*f_x)\n",
    "\n",
    "# calculating the expectation of a Random Variable X^2\n",
    "x_square=x**2\n",
    "expected_xsquare=np.sum(x_square*f_x)\n",
    "\n",
    "#calculating the variance E(X^2)-[E(x)]^2\n",
    "variance=(expected_xsquare)-(expected_x**2)\n",
    "\n",
    "print(f\" Mean no. of workouts in a week:{expected_x}\\n Variance:{variance}\")"
   ]
  },
  {
   "cell_type": "markdown",
   "id": "830cca28",
   "metadata": {},
   "source": [
    "## Problem Statement 5\n",
    "\n",
    "A company manufactures LED bulbs with a faulty rate of 30%. If I randomly select 6\n",
    "chosen LEDs, what is the probability of having 2 faulty LEDs in my sample?\n",
    "Calculate the average value of this process. Also evaluate the standard deviation\n",
    "associated with it."
   ]
  },
  {
   "cell_type": "code",
   "execution_count": 36,
   "id": "40a30822",
   "metadata": {},
   "outputs": [
    {
     "name": "stdout",
     "output_type": "stream",
     "text": [
      " Probability being faulty is:0.3241349999999999\n",
      " Mean:1.7999999999999998\n",
      " Variance:1.1224972160321822\n"
     ]
    }
   ],
   "source": [
    "# from the given it is obvious that it follow binomial distribution\n",
    "\n",
    "n=6 #sample size\n",
    "p=0.3 # probability of being faulty\n",
    "q=0.7 # probability of not being faulty\n",
    "x=2\n",
    "prob= math.comb(n,x)*(p**x)*(q**(n-x))\n",
    "\n",
    "print(f\" Probability being faulty is:{prob}\")\n",
    "print(f\" Mean:{n*p}\")\n",
    "print(f\" Variance:{(n*p*q)**0.5}\")\n"
   ]
  },
  {
   "cell_type": "markdown",
   "id": "1e521fa7",
   "metadata": {},
   "source": [
    "## Problem Satement 7\n",
    "\n",
    "Customers arrive at a rate of 72 per hour to my shop. What is the probability of k\n",
    "customers arriving in 4 minutes? a) 5 customers, b) not more than 3 customers, c)\n",
    "more than 3 customers. Give a pictorial representation of the same to validate your\n",
    "answer.\n"
   ]
  },
  {
   "cell_type": "code",
   "execution_count": 60,
   "id": "fac7ead1",
   "metadata": {},
   "outputs": [],
   "source": [
    "n=4\n",
    "p=72/60\n",
    "l=n*p\n",
    "\n",
    "def poisson_prob(lamda,x):\n",
    "    return (math.exp(-lamda)*(lamda**x))/math.factorial(x)"
   ]
  },
  {
   "cell_type": "markdown",
   "id": "e53d7be3",
   "metadata": {},
   "source": [
    "a) Probability of 5 customers arriving in 4 minutes\n",
    "\n",
    "\\begin{equation}\n",
    "P(x) = \\frac{e^{-4.8}{4.8}^5}{5!} = \\frac{0.00823*2548.04}{120} = 0.175\n",
    "\\end{equation}"
   ]
  },
  {
   "cell_type": "code",
   "execution_count": 61,
   "id": "cfd23ab2",
   "metadata": {},
   "outputs": [
    {
     "name": "stdout",
     "output_type": "stream",
     "text": [
      "Probability of 5 customers arriving in 4 minutes:0.17474768364388282\n"
     ]
    }
   ],
   "source": [
    "x=5\n",
    "prob_of_5= poisson_prob(l,5)\n",
    "print(f\"Probability of 5 customers arriving in 4 minutes:{prob_of_5}\")"
   ]
  },
  {
   "cell_type": "markdown",
   "id": "b3d52eed",
   "metadata": {},
   "source": [
    "b) Probability of not more than 3 customers arriving in 4 minutes\n",
    "\n",
    "\\begin{equation}\n",
    "P(x_{0})+P(x_{1})+P(x_{2})+P(x_{3}) \n",
    "= \\frac{e^{-4.8}{4.8}^0}{0!}+ \\frac{e^{-4.8}{4.8}^1}{1!}+\\frac{e^{-4.8}{4.8}^2}{2!}+\\frac{e^{-4.8}{4.8}^3}{3!} =\\frac{0.00823*1}{1}+\\frac{0.00823*4.8}{1}+\\frac{0.00823*23.04}{2}+\\frac{0.00823*110.59}{6}\n",
    "= 0.00823+0.0395+0.095+0.152\n",
    "= 0.2944\n",
    "\\end{equation}"
   ]
  },
  {
   "cell_type": "code",
   "execution_count": 64,
   "id": "6d0df9c1",
   "metadata": {},
   "outputs": [
    {
     "name": "stdout",
     "output_type": "stream",
     "text": [
      " Probability of not more than 3 customers arriving in 4 minutes: 0.2942299164965641\n"
     ]
    }
   ],
   "source": [
    "prob_not_morethan_3=poisson_prob(l,0)+poisson_prob(l,1)+poisson_prob(l,2)+poisson_prob(l,3)\n",
    "print(f\" Probability of not more than 3 customers arriving in 4 minutes: {prob_not_morethan_3}\")"
   ]
  },
  {
   "cell_type": "markdown",
   "id": "9a346305",
   "metadata": {},
   "source": [
    "c) Probability of  more than 3 customers arriving in 4 minutes\n",
    "\n"
   ]
  },
  {
   "cell_type": "code",
   "execution_count": 66,
   "id": "83b9cd8b",
   "metadata": {},
   "outputs": [
    {
     "name": "stdout",
     "output_type": "stream",
     "text": [
      "Probability of more than 3 customers arriving in 4 minutes: 0.705770083503436\n"
     ]
    }
   ],
   "source": [
    "prob_morethan_3=1-prob_not_morethan_3\n",
    "print(f\"Probability of more than 3 customers arriving in 4 minutes: {prob_morethan_3}\")"
   ]
  },
  {
   "cell_type": "markdown",
   "id": "f759382d",
   "metadata": {},
   "source": [
    "#### Pictorial representation"
   ]
  },
  {
   "cell_type": "code",
   "execution_count": 5,
   "id": "45facbf3",
   "metadata": {},
   "outputs": [],
   "source": [
    "import matplotlib.pyplot as plt\n",
    "import seaborn as sns\n",
    "from scipy.stats import poisson"
   ]
  },
  {
   "cell_type": "code",
   "execution_count": 6,
   "id": "8dd7ae78",
   "metadata": {},
   "outputs": [],
   "source": [
    "# simulating our own poisson data\n",
    "poisson_data=poisson.rvs(mu=4.8,size=200)"
   ]
  },
  {
   "cell_type": "code",
   "execution_count": 7,
   "id": "4a6fbefc",
   "metadata": {},
   "outputs": [
    {
     "name": "stderr",
     "output_type": "stream",
     "text": [
      "C:\\Users\\Pradyu\\AppData\\Local\\Temp\\ipykernel_8248\\2571901958.py:1: UserWarning: \n",
      "\n",
      "`distplot` is a deprecated function and will be removed in seaborn v0.14.0.\n",
      "\n",
      "Please adapt your code to use either `displot` (a figure-level function with\n",
      "similar flexibility) or `histplot` (an axes-level function for histograms).\n",
      "\n",
      "For a guide to updating your code to use the new functions, please see\n",
      "https://gist.github.com/mwaskom/de44147ed2974457ad6372750bbe5751\n",
      "\n",
      "  sns.distplot(poisson_data)\n"
     ]
    },
    {
     "data": {
      "text/plain": [
       "<AxesSubplot: ylabel='Density'>"
      ]
     },
     "execution_count": 7,
     "metadata": {},
     "output_type": "execute_result"
    },
    {
     "data": {
      "image/png": "[encoded data removed]",
      "text/plain": [
       "<Figure size 640x480 with 1 Axes>"
      ]
     },
     "metadata": {},
     "output_type": "display_data"
    }
   ],
   "source": [
    "sns.distplot(poisson_data)"
   ]
  },
  {
   "cell_type": "code",
   "execution_count": 25,
   "id": "413ed8a1",
   "metadata": {},
   "outputs": [
    {
     "data": {
      "text/plain": [
       "<matplotlib.lines.Line2D at 0x23af396af10>"
      ]
     },
     "execution_count": 25,
     "metadata": {},
     "output_type": "execute_result"
    },
    {
     "data": {
      "image/png": "[encoded data removed]",
      "text/plain": [
       "<Figure size 640x480 with 1 Axes>"
      ]
     },
     "metadata": {},
     "output_type": "display_data"
    }
   ],
   "source": [
    "# x axis for cdf\n",
    "x=np.arange(0,15)\n",
    "\n",
    "# y axis for cdf\n",
    "cdfs=poisson.cdf(x,4.8)\n",
    "\n",
    "# plotting the cdf\n",
    "plt.plot(cdfs)\n",
    "plt.scatter(3,0.2942299164965641)\n",
    "plt.text(3,0.29,\"(3,0.29)\")\n",
    "plt.axvline(x=3,color='orange')\n",
    "\n",
    "\n"
   ]
  },
  {
   "cell_type": "markdown",
   "id": "04408b23",
   "metadata": {},
   "source": [
    "## Problem Satement 10\n",
    "Please compute the following:\n",
    "\n",
    "- a) P(Z > 1.26), . P(Z < −0.86), P(Z > −1.37), P(−1.25 < Z < 0.37), . P(Z ≤ −4.6)\n",
    "- b) Find the value z such that P(Z > z) = 0.05\n",
    "- c) Find the value of z such that P(−z < Z < z) = 0.99\n"
   ]
  },
  {
   "cell_type": "code",
   "execution_count": 37,
   "id": "cff869af",
   "metadata": {},
   "outputs": [],
   "source": [
    "from scipy.stats import norm"
   ]
  },
  {
   "cell_type": "markdown",
   "id": "b6a5817b",
   "metadata": {},
   "source": [
    "a)"
   ]
  },
  {
   "cell_type": "code",
   "execution_count": 52,
   "id": "d7a5a02e",
   "metadata": {},
   "outputs": [
    {
     "name": "stdout",
     "output_type": "stream",
     "text": [
      "P(Z > 1.26):0.10383468112130045\n",
      "P(Z < −0.86):0.1948945212518084\n",
      "P(Z > −1.37):0.914656549178033\n",
      "P(−1.25 < Z < 0.37):0.5386589811336914\n",
      "P(Z ≤ −4.6):2.1124547025028537e-06\n"
     ]
    }
   ],
   "source": [
    "a1=1-norm.cdf(1.26)\n",
    "a2=norm.cdf(-0.86)\n",
    "a3=1-norm.cdf(-1.37)\n",
    "a4=norm.cdf(0.37)-norm.cdf(-1.25)\n",
    "a5=norm.cdf(-4.6)\n",
    "print(f\"P(Z > 1.26):{a1}\\nP(Z < −0.86):{a2}\\nP(Z > −1.37):{a3}\\nP(−1.25 < Z < 0.37):{a4}\\nP(Z ≤ −4.6):{a5}\")"
   ]
  },
  {
   "cell_type": "markdown",
   "id": "83e1b0a8",
   "metadata": {},
   "source": [
    "b)"
   ]
  },
  {
   "cell_type": "code",
   "execution_count": 51,
   "id": "82afed36",
   "metadata": {},
   "outputs": [
    {
     "name": "stdout",
     "output_type": "stream",
     "text": [
      "the value z such that P(Z > z)=0.05 is 1.6448536269514722\n"
     ]
    }
   ],
   "source": [
    "b=norm.ppf(0.95)\n",
    "print(f\"the value z such that P(Z > z)=0.05 is {b}\")"
   ]
  },
  {
   "cell_type": "markdown",
   "id": "7f87d23a",
   "metadata": {},
   "source": [
    "c)"
   ]
  },
  {
   "cell_type": "code",
   "execution_count": 58,
   "id": "7e1fe364",
   "metadata": {},
   "outputs": [
    {
     "name": "stdout",
     "output_type": "stream",
     "text": [
      "the value of z such that P(−z < Z < z)=0.99 is -2.575829303548901\n"
     ]
    }
   ],
   "source": [
    "c=norm.ppf(0.005)\n",
    "print(f\"the value of z such that P(−z < Z < z)=0.99 is {c}\")"
   ]
  },
  {
   "cell_type": "markdown",
   "id": "f8ce0e5c",
   "metadata": {},
   "source": [
    "## Problem Statement 11\n",
    "\n",
    "The current flow in a copper wire follow a normal distribution with a mean of 10 mA\n",
    "and a variance of 4 (mA)2.\n",
    "What is the probability that a current measurement will exceed 13 mA? What is the\n",
    "probability that a current measurement is between 9 and 11mA? Determine the\n",
    "current measurement which has a probability of 0.98."
   ]
  },
  {
   "cell_type": "code",
   "execution_count": 70,
   "id": "a4fd247f",
   "metadata": {},
   "outputs": [
    {
     "name": "stdout",
     "output_type": "stream",
     "text": [
      "probability of current measurement  exceeding 13 mA is 0.06680720126885809\n"
     ]
    }
   ],
   "source": [
    "# probability of current measurement  exceeding 13 mA\n",
    "z_score_13= (13-10)/2\n",
    "prob_exceeding_13=1-norm.cdf(z_score_13)\n",
    "print(f\"probability of current measurement  exceeding 13 mA is {prob_exceeding_13}\")"
   ]
  },
  {
   "cell_type": "code",
   "execution_count": 72,
   "id": "3f84f610",
   "metadata": {},
   "outputs": [
    {
     "name": "stdout",
     "output_type": "stream",
     "text": [
      "the probability that a current measurement is between 9 and 11mA is 0.38292492254802624\n"
     ]
    }
   ],
   "source": [
    "#What is the probability that a current measurement is between 9 and 11mA\n",
    "z_score_9=(9-10)/2\n",
    "z_score_11=(11-10)/2\n",
    "prob_between_9_11=norm.cdf(z_score_11)-norm.cdf(z_score_9)\n",
    "print(f\"the probability that a current measurement is between 9 and 11mA is {prob_between_9_11}\")"
   ]
  },
  {
   "cell_type": "code",
   "execution_count": 75,
   "id": "b4e700fc",
   "metadata": {},
   "outputs": [
    {
     "name": "stdout",
     "output_type": "stream",
     "text": [
      "the current measurement which has a probability of 0.98 is 14.107497821263646\n"
     ]
    }
   ],
   "source": [
    "current_measurement=(norm.ppf(0.98)*2)+10\n",
    "print(f\"the current measurement which has a probability of 0.98 is {current_measurement}\")"
   ]
  },
  {
   "cell_type": "code",
   "execution_count": null,
   "id": "34b47692",
   "metadata": {},
   "outputs": [],
   "source": []
  }
 ],
 "metadata": {
  "kernelspec": {
   "display_name": "Python 3 (ipykernel)",
   "language": "python",
   "name": "python3"
  },
  "language_info": {
   "codemirror_mode": {
    "name": "ipython",
    "version": 3
   },
   "file_extension": ".py",
   "mimetype": "text/x-python",
   "name": "python",
   "nbconvert_exporter": "python",
   "pygments_lexer": "ipython3",
   "version": "3.11.0"
  }
 },
 "nbformat": 4,
 "nbformat_minor": 5
}
