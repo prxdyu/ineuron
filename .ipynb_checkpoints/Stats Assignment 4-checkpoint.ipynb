{
 "cells": [
  {
   "cell_type": "markdown",
   "id": "4d490e03",
   "metadata": {},
   "source": [
    "## Problem Statement 1\n",
    "\n",
    "Is gender independent of education level? A random sample of 395 people were\n",
    "surveyed and each person was asked to report the highest education level they\n",
    "obtained. The data that resulted from the survey is summarized in the following table:\n",
    "High School Bachelors Masters Ph.d. Total\n",
    "Female 60 54 46 41 201\n",
    "Male 40 44 53 57 194\n",
    "Total 100 98 99 98 395\n",
    "Question: Are gender and education level dependent at 5% level of significance? In\n",
    "other words, given the data collected above, is there a relationship between the\n",
    "gender of an individual and the level of education that they have obtained?"
   ]
  },
  {
   "cell_type": "code",
   "execution_count": 15,
   "id": "8cb1e717",
   "metadata": {},
   "outputs": [],
   "source": [
    "import pandas as pd\n",
    "import numpy as np\n",
    "from scipy.stats import chi2_contingency\n",
    "\n",
    "# fixing significance level\n",
    "alpha=0.005\n",
    "\n",
    "# creating dataframe \n",
    "dataframe={\"High School\":[60,40],\"Bachelors\":[54,44],\"Masters\":[46,53],\"PhD\":[41,57]}\n",
    "idx=['Female','Male']\n",
    "df=pd.DataFrame(data=dataframe,index=idx)"
   ]
  },
  {
   "cell_type": "markdown",
   "id": "7ab859d0",
   "metadata": {},
   "source": [
    "Null Hypothesis      : Gender and education are independent\n",
    "Alternate Hypothesis : Gender and education are dependent"
   ]
  },
  {
   "cell_type": "code",
   "execution_count": 18,
   "id": "7f8ca8ec",
   "metadata": {},
   "outputs": [],
   "source": [
    "# perfoirming chisquare test\n",
    "chi2,p_val,dof,expected=chi2_contingency(df)"
   ]
  },
  {
   "cell_type": "code",
   "execution_count": 21,
   "id": "72583a42",
   "metadata": {},
   "outputs": [
    {
     "name": "stdout",
     "output_type": "stream",
     "text": [
      "0.04588650089174722\n"
     ]
    }
   ],
   "source": [
    "print(p_val)"
   ]
  },
  {
   "cell_type": "markdown",
   "id": "3d230f41",
   "metadata": {},
   "source": [
    "since p value is lesser than significance level 0.005 we reject null hypo and accept Alternate hypo"
   ]
  },
  {
   "cell_type": "markdown",
   "id": "b587a105",
   "metadata": {},
   "source": [
    "## Problem Statement 2\n",
    "\n",
    "Using the following data, perform a oneway analysis of variance using α=.05. Write\n",
    "up the results in APA format.\n",
    "\n",
    "- [Group1: 51, 45, 33, 45, 67]\n",
    "- [Group2: 23, 43, 23, 43, 45]\n",
    "- [Group3: 56, 76, 74, 87, 56]"
   ]
  },
  {
   "cell_type": "code",
   "execution_count": 28,
   "id": "3e0f9c11",
   "metadata": {},
   "outputs": [],
   "source": [
    "from scipy.stats import f_oneway\n",
    "\n",
    "g1=[51, 45, 33, 45, 67]\n",
    "g2=[23, 43, 23, 43, 45]\n",
    "g3=[56, 76, 74, 87, 56]\n",
    "\n",
    "df2=pd.DataFrame(data=datas)\n",
    "result=f_oneway(g1,g2,g3)"
   ]
  },
  {
   "cell_type": "code",
   "execution_count": 29,
   "id": "c245f2f7",
   "metadata": {},
   "outputs": [
    {
     "name": "stdout",
     "output_type": "stream",
     "text": [
      "F_onewayResult(statistic=9.747205503009463, pvalue=0.0030597541434430548)\n"
     ]
    }
   ],
   "source": [
    "print(result)"
   ]
  },
  {
   "cell_type": "code",
   "execution_count": null,
   "id": "4f14e32d",
   "metadata": {},
   "outputs": [],
   "source": []
  }
 ],
 "metadata": {
  "kernelspec": {
   "display_name": "Python 3 (ipykernel)",
   "language": "python",
   "name": "python3"
  },
  "language_info": {
   "codemirror_mode": {
    "name": "ipython",
    "version": 3
   },
   "file_extension": ".py",
   "mimetype": "text/x-python",
   "name": "python",
   "nbconvert_exporter": "python",
   "pygments_lexer": "ipython3",
   "version": "3.11.0"
  }
 },
 "nbformat": 4,
 "nbformat_minor": 5
}
