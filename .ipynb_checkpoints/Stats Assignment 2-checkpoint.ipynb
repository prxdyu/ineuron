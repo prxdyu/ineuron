{
 "cells": [
  {
   "cell_type": "markdown",
   "id": "5f1691e5",
   "metadata": {},
   "source": [
    "## Problem Statement 1"
   ]
  },
  {
   "cell_type": "markdown",
   "id": "83f1c557",
   "metadata": {},
   "source": [
    "In each of the following situations, state whether it is a correctly stated hypothesis\n",
    "testing problem and why?\n",
    "1. H0: μ = 25, H1: μ ≠ 25\n",
    "2. H0: σ > 10, H1: σ = 10 \n",
    "3. H0: x = 50, H1: x ≠ 50\n",
    "4. H0: p = 0.1, H1: p = 0.5\n",
    "5. H0: s = 30, H1: s > 30\n"
   ]
  },
  {
   "cell_type": "markdown",
   "id": "5a4c309e",
   "metadata": {},
   "source": [
    "1. Yes, because values in both are statement about population or distribution, have equal values and has inequality in ull hypothesis.\n",
    "2. No, because null hypothesis has an eqaulity claim and alternate hypothesis has inequality.\n",
    "3. No, because hypothesis is stated in terms of statistics and not sample data 4. No, because values in both hypothesis is different and has equal sign.\n",
    "4. No, because hypothesis are always statements about population or distribution and not about sample"
   ]
  },
  {
   "cell_type": "markdown",
   "id": "6a6b9a6a",
   "metadata": {},
   "source": [
    "## Problem Statement 2:\n",
    "\n",
    "The college bookstore tells prospective students that the average cost of its\n",
    "textbooks is Rs. 52 with a standard deviation of Rs. 4.50. A group of smart statistics\n",
    "students thinks that the average cost is higher. To test the bookstore’s claim against\n",
    "their alternative, the students will select a random sample of size 100. Assume that\n",
    "the mean from their random sample is Rs. 52.80. Perform a hypothesis test at the\n",
    "5% level of significance and state your decision."
   ]
  },
  {
   "cell_type": "code",
   "execution_count": 36,
   "id": "f046aa22",
   "metadata": {},
   "outputs": [],
   "source": [
    "from scipy.stats import norm,t\n",
    "pop_mean=52\n",
    "pop_sd=4.5\n",
    "x=52.80\n",
    "n=100\n",
    "alpha=0.05"
   ]
  },
  {
   "cell_type": "markdown",
   "id": "94a1151b",
   "metadata": {},
   "source": [
    "since n>=30 we will perform One sampled Z test\n",
    "\n",
    "- H0: Average cost is same as book store told value µ=52\n",
    "\n",
    "- Ha: Average cost is greater than book store told value µ<52\n",
    "\n",
    "it is a left tailed test"
   ]
  },
  {
   "cell_type": "code",
   "execution_count": 10,
   "id": "5d58ca58",
   "metadata": {},
   "outputs": [
    {
     "name": "stdout",
     "output_type": "stream",
     "text": [
      "Observed Test statistic is 1.7777777777777715\n"
     ]
    }
   ],
   "source": [
    "# Calculating Z test statistic\n",
    "std_error=pop_sd/(n**0.5)\n",
    "T_obs=(x-pop_mean)/std_error\n",
    "print(\"Observed Test statistic is\",T_obs)"
   ]
  },
  {
   "cell_type": "code",
   "execution_count": 15,
   "id": "00231fc4",
   "metadata": {},
   "outputs": [
    {
     "name": "stdout",
     "output_type": "stream",
     "text": [
      "p_value is 0.9622798201865993\n"
     ]
    }
   ],
   "source": [
    "p_value=norm.cdf(T_obs)\n",
    "print('p_value is',p_value)"
   ]
  },
  {
   "cell_type": "markdown",
   "id": "64dd87bd",
   "metadata": {},
   "source": [
    "#### Conclusion\n",
    "\n",
    "Since p value > alpha we accept null hypo"
   ]
  },
  {
   "cell_type": "markdown",
   "id": "9f0111c6",
   "metadata": {},
   "source": [
    "## Problem Statement 3:\n",
    "\n",
    "A certain chemical pollutant in the Genesee River has been constant for several\n",
    "years with mean μ = 34 ppm (parts per million) and standard deviation σ = 8 ppm. A\n",
    "group of factory representatives whose companies discharge liquids into the river is\n",
    "now claiming that they have lowered the average with improved filtration devices. A\n",
    "group of environmentalists will test to see if this is true at the 1% level of\n",
    "significance. Assume \\ that their sample of size 50 gives a mean of 32.5 ppm.\n",
    "Perform a hypothesis test at the 1% level of significance and state your decision."
   ]
  },
  {
   "cell_type": "code",
   "execution_count": 19,
   "id": "e4054d21",
   "metadata": {},
   "outputs": [],
   "source": [
    "pop_mean=34\n",
    "pop_sd=8\n",
    "x=32.5\n",
    "n=50\n",
    "alpha=0.01"
   ]
  },
  {
   "cell_type": "markdown",
   "id": "3275e249",
   "metadata": {},
   "source": [
    "since n>=30 we will perform One sampled Z test\n",
    "\n",
    "- H0: Average chemical pollutant after filtering remains same as Unfiltered one µ=34\n",
    "\n",
    "- Ha: Average chemical pollutant after filtering is less than Unfiltered one µ<34\n",
    "\n",
    "it is a left tailed test"
   ]
  },
  {
   "cell_type": "code",
   "execution_count": 20,
   "id": "2099e314",
   "metadata": {},
   "outputs": [
    {
     "name": "stdout",
     "output_type": "stream",
     "text": [
      "Observed Z test statistic is  -1.3258252147247767\n"
     ]
    }
   ],
   "source": [
    "# calculating Z-test statistics\n",
    "std_error=pop_sd/(n**0.5)\n",
    "T_obs=(x-pop_mean)/std_error\n",
    "print(\"Observed Z test statistic is \",T_obs)"
   ]
  },
  {
   "cell_type": "code",
   "execution_count": 22,
   "id": "9659e04d",
   "metadata": {},
   "outputs": [
    {
     "name": "stdout",
     "output_type": "stream",
     "text": [
      "P value is 0.0924487994828001\n"
     ]
    }
   ],
   "source": [
    "# calculating p-value\n",
    "p_value=norm.cdf(T_obs)\n",
    "print(\"P value is\",p_value)"
   ]
  },
  {
   "cell_type": "markdown",
   "id": "f099ea3c",
   "metadata": {},
   "source": [
    "#### Conclusion \n",
    "\n",
    "Since p value is greater than significance level accept Null hypo"
   ]
  },
  {
   "cell_type": "markdown",
   "id": "b6b2258e",
   "metadata": {},
   "source": [
    "## Problem Statement 4:\n",
    "\n",
    "Based on population figures and other general information on the U.S. population,\n",
    "suppose it has been estimated that, on average, a family of four in the U.S. spends\n",
    "about $1135 annually on dental expenditures. Suppose further that a regional dental\n",
    "association wants to test to determine if this figure is accurate for their area of\n",
    "country. To test this, 22 families of 4 are randomly selected from the population in\n",
    "that area of the country and a log is kept of the family’s dental expenditure for one\n",
    "year. The resulting data are given below. Assuming, that dental expenditure is\n",
    "normally distributed in the population, use the data and an alpha of 0.5 to test the\n",
    "dental association’s hypothesis.\n",
    "1008, 812, 1117, 1323, 1308, 1415, 831, 1021, 1287, 851, 930, 730, 699,\n",
    "872, 913, 944, 954, 987, 1695, 995, 1003, 994"
   ]
  },
  {
   "cell_type": "code",
   "execution_count": 23,
   "id": "624e2591",
   "metadata": {},
   "outputs": [],
   "source": [
    "import numpy as np\n",
    "pop_mean=1135\n",
    "samples=[1008, 812, 1117, 1323, 1308, 1415, 831, 1021, 1287, 851, 930, 730, 699, 872, 913, 944, 954, 987, 1695, 995, 1003, 994]\n",
    "alpha=0.05\n",
    "\n",
    "# sample size \n",
    "n=22\n",
    "\n",
    "# calculating sample mean\n",
    "x=np.mean(samples)\n",
    "\n",
    "#calculating sample SD\n",
    "s=np.std(samples)"
   ]
  },
  {
   "cell_type": "markdown",
   "id": "ee38164e",
   "metadata": {},
   "source": [
    "since n<30 we perform T test \n",
    "\n",
    "- H0: mu=1135\n",
    "- Ha: mu!=1135\n",
    "\n",
    "it is a 2 tailed test\n"
   ]
  },
  {
   "cell_type": "code",
   "execution_count": 24,
   "id": "422937d9",
   "metadata": {},
   "outputs": [
    {
     "name": "stdout",
     "output_type": "stream",
     "text": [
      "Observed T test statistics is -2.070747228595759\n"
     ]
    }
   ],
   "source": [
    "# calculating t test statistics\n",
    "std_error=s/(n**0.5)\n",
    "T_obs=(x-pop_mean)/std_error\n",
    "print(f\"Observed T test statistics is {T_obs}\")"
   ]
  },
  {
   "cell_type": "code",
   "execution_count": 26,
   "id": "81172268",
   "metadata": {},
   "outputs": [
    {
     "name": "stdout",
     "output_type": "stream",
     "text": [
      "P value is 0.03838242412656271\n"
     ]
    }
   ],
   "source": [
    "# calculating p value\n",
    "p_value=2*norm.cdf(T_obs)\n",
    "print(f\"P value is {p_value}\")"
   ]
  },
  {
   "cell_type": "markdown",
   "id": "400807f7",
   "metadata": {},
   "source": [
    "#### Conclusion\n",
    "\n",
    "since p value is lesser than significance level we reject null hypo"
   ]
  },
  {
   "cell_type": "markdown",
   "id": "64a7d299",
   "metadata": {},
   "source": [
    "## Problem Statement 5:\n",
    "\n",
    "In a report prepared by the Economic Research Department of a major bank the\n",
    "Department manager maintains that the average annual family income on Metropolis\n",
    "is $ 48,432. What do you conclude about the validity of the report if a random sample\n",
    "of 400 families shows and average income of $48,574 with a standard deviation of\n",
    "2000?"
   ]
  },
  {
   "cell_type": "code",
   "execution_count": null,
   "id": "e143ede9",
   "metadata": {},
   "outputs": [],
   "source": [
    "p_mean = 48432\n",
    "p_std = 2000\n",
    "n =400\n",
    "sample_mean =48574\n",
    "\n",
    "SE = p_std/n**0.5\n",
    "Z = (sample_mean-p_mean)/SE\n",
    "alpha=0.05\n",
    "print(f\"Critical region is {norm.ppf(alpha/2)} {-norm.ppf(alpha/2)}\")"
   ]
  },
  {
   "cell_type": "markdown",
   "id": "0a795f85",
   "metadata": {},
   "source": [
    "*We accept null hypothesis at alpha=0.05 since z_score<critical_region"
   ]
  },
  {
   "cell_type": "markdown",
   "id": "d76238ff",
   "metadata": {},
   "source": [
    "## Problem Statement 6:\n",
    "\n",
    "Suppose that in past years the average price per square foot for warehouses in the\n",
    "United States has been $32.28. A national real estate investor wants to determine\n",
    "whether that figure has changed now. The investor hires a researcher who randomly\n",
    "samples 19 warehouses that are for sale across the United States and finds that the\n",
    "mean price per square foot is $31.67, with a standard deviation of $1.29. assume\n",
    "that the prices of warehouse footage are normally distributed in population. If the\n",
    "researcher uses a 5% level of significance, what statistical conclusion can be\n",
    "reached? What are the hypotheses?"
   ]
  },
  {
   "cell_type": "code",
   "execution_count": 30,
   "id": "1ee6ce46",
   "metadata": {},
   "outputs": [],
   "source": [
    "pop_mean=32.28\n",
    "n=19\n",
    "x=31.67\n",
    "s=1.29\n",
    "alpha=0.05"
   ]
  },
  {
   "cell_type": "markdown",
   "id": "d532adfd",
   "metadata": {},
   "source": [
    "since n<30 we use T-Test\n",
    "\n",
    "- H0: mu=32.28\n",
    "- Ha: mu!=32.28\n",
    "\n",
    "it is a 2 tailed test since we are chekcing for inequaltity"
   ]
  },
  {
   "cell_type": "code",
   "execution_count": 31,
   "id": "8254e8d5",
   "metadata": {},
   "outputs": [
    {
     "name": "stdout",
     "output_type": "stream",
     "text": [
      "Observed T test satistics is -2.06118477175179\n"
     ]
    }
   ],
   "source": [
    "# calculating T test statistics\n",
    "std_error=s/(n**0.5)\n",
    "T_obs=(x-pop_mean)/std_error\n",
    "print(f\"Observed T test satistics is {T_obs}\")"
   ]
  },
  {
   "cell_type": "code",
   "execution_count": 32,
   "id": "90c50d7d",
   "metadata": {},
   "outputs": [
    {
     "name": "stdout",
     "output_type": "stream",
     "text": [
      "P value is  0.039285415777427564\n"
     ]
    }
   ],
   "source": [
    "# calculating p value\n",
    "p_value=2*norm.cdf(T_obs)\n",
    "print(\"P value is \",p_value)"
   ]
  },
  {
   "cell_type": "markdown",
   "id": "675c81d8",
   "metadata": {},
   "source": [
    "#### Conclusion\n",
    "\n",
    "Since p value is less than significance level we reject null hypo"
   ]
  },
  {
   "cell_type": "markdown",
   "id": "9e335d92",
   "metadata": {},
   "source": [
    "## Problem Statement 8\n",
    "\n",
    "Find the t-score for a sample size of 16 taken from a population with mean 10 when\n",
    "the sample mean is 12 and the sample standard deviation is 1.5."
   ]
  },
  {
   "cell_type": "code",
   "execution_count": 33,
   "id": "0314c3a2",
   "metadata": {},
   "outputs": [
    {
     "name": "stdout",
     "output_type": "stream",
     "text": [
      "The t-score for the given problem is  5.333333333333333\n"
     ]
    }
   ],
   "source": [
    "pop_mean=10\n",
    "x=12\n",
    "s=1.5\n",
    "n=16\n",
    "\n",
    "# calculating std error\n",
    "std_error=s/(n**0.5)\n",
    "t_score=(x-pop_mean)/std_error\n",
    "print(\"The t-score for the given problem is \",t_score)"
   ]
  },
  {
   "cell_type": "markdown",
   "id": "8c1f432c",
   "metadata": {},
   "source": [
    "## Problem Statement 9:\n",
    "\n",
    "Find the t-score below which we can expect 99% of sample means will fall if samples\n",
    "of size 16 are taken from a normally distributed population."
   ]
  },
  {
   "cell_type": "code",
   "execution_count": 37,
   "id": "def85254",
   "metadata": {},
   "outputs": [
    {
     "name": "stdout",
     "output_type": "stream",
     "text": [
      "t_score is 2.946712883338615\n"
     ]
    }
   ],
   "source": [
    "n= 16\n",
    "alpha=(1-0.99)/2\n",
    "print(f\"t_score is {t.ppf(1-alpha,df=15)}\")"
   ]
  },
  {
   "cell_type": "markdown",
   "id": "c013f9aa",
   "metadata": {},
   "source": [
    "## Problem Statement 10:\n",
    "\n",
    "If a random sample of size 25 drawn from a normal population gives a mean of 60\n",
    "and a standard deviation of 4, find the range of t-scores where we can expect to find\n",
    "the middle 95% of all sample means. Compute the probability that (−t0.05 <t<t0.10)."
   ]
  },
  {
   "cell_type": "code",
   "execution_count": 47,
   "id": "42a0faa2",
   "metadata": {},
   "outputs": [
    {
     "name": "stdout",
     "output_type": "stream",
     "text": [
      "The range is -68.25559424651209 to 51.74440575348792\n"
     ]
    }
   ],
   "source": [
    "n=25\n",
    "x=60\n",
    "s=4\n",
    "alpha=0.05\n",
    "\n",
    "# range of t-scores where we can expect to find the middle 95% of all sample means\n",
    "left_bound=t.ppf(alpha/2,df=24)\n",
    "right_bound=t.ppf(alpha/2,df=24)\n",
    "print(f\"The range is {(left_bound*s)-x} to {(right_bound*s)+x}\")"
   ]
  },
  {
   "cell_type": "code",
   "execution_count": 48,
   "id": "de3f4787",
   "metadata": {},
   "outputs": [
    {
     "name": "stdout",
     "output_type": "stream",
     "text": [
      "Prob is: 0.019680605913527716\n"
     ]
    }
   ],
   "source": [
    "# the probability that (−t0.05 <t<t0.10).\n",
    "prob=t.cdf(0.10,df=24)-t.cdf(0.05,df=24)\n",
    "print(\"Prob is:\",prob)"
   ]
  },
  {
   "cell_type": "markdown",
   "id": "57e4cade",
   "metadata": {},
   "source": [
    "## Problem Statement 11:\n",
    "\n",
    "\n",
    "Two-tailed test for difference between two population means\n",
    "Is there evidence to conclude that the number of people travelling from Bangalore to\n",
    "Chennai is different from the number of people travelling from Bangalore to Hosur in\n",
    "a week, given the following:\n",
    "Population 1: Bangalore to Chennai n1 = 1200\n",
    "x1 = 452\n",
    "s1 = 212\n",
    "Population 2: Bangalore to Hosur n2 = 800\n",
    "x2 = 523\n",
    "s2 = 185"
   ]
  },
  {
   "cell_type": "markdown",
   "id": "531837f0",
   "metadata": {},
   "source": [
    "since the sample size n>30 we use Z test \n",
    "\n",
    "- H0:  two population means are same       µ1=µ2\n",
    "- Ha:  two population means are not same   µ1!=µ2\n",
    "\n",
    "it is a two tail test\n",
    "it is 2 sampled Z test"
   ]
  },
  {
   "cell_type": "code",
   "execution_count": 58,
   "id": "99f7092a",
   "metadata": {},
   "outputs": [
    {
     "name": "stdout",
     "output_type": "stream",
     "text": [
      "Observed test statistics is -7.926428526759299\n"
     ]
    }
   ],
   "source": [
    "# sample of people from banglore to chennai\n",
    "m1=452      #sample1 mean\n",
    "n1=1200     #sample1 size\n",
    "s1=212      #sample1 SD\n",
    "\n",
    "# sample of people from banglore to hosur\n",
    "m2=523\n",
    "n2=800\n",
    "s2=185\n",
    "\n",
    "\n",
    "# calculating  test statistics for 2 sampled Z test\n",
    "std_error=(s1**2/n1)+(s2**2/n2)\n",
    "T_obs=(m1-m2)/std_error**0.5\n",
    "print(\"Observed test statistics is\",T_obs)"
   ]
  },
  {
   "cell_type": "code",
   "execution_count": 63,
   "id": "4f3e6aaa",
   "metadata": {},
   "outputs": [
    {
     "name": "stdout",
     "output_type": "stream",
     "text": [
      "The p value is 0.039285415777427564\n"
     ]
    }
   ],
   "source": [
    "# calculating p value for 2 tailed test\n",
    "p_val=2*norm.cdf(T_obs)\n",
    "print(\"The p value is\",p_value)"
   ]
  },
  {
   "cell_type": "markdown",
   "id": "ff376ea3",
   "metadata": {},
   "source": [
    "#### Conclusion \n",
    "\n",
    "since p value is less than significance level we reject null hypothesis"
   ]
  },
  {
   "cell_type": "markdown",
   "id": "cc755b85",
   "metadata": {},
   "source": [
    "## Problem Statement 12:\n",
    "\n",
    "Is there evidence to conclude that the number of people preferring Duracell battery is\n",
    "different from the number of people preferring Energizer battery, given the following:\n",
    "Population 1: Duracell\n",
    "n1 = 100\n",
    "x1 = 308\n",
    "s1 = 84\n",
    "Population 2: Energizer\n",
    "n2 = 100\n",
    "x2 = 254\n",
    "s2 = 67"
   ]
  },
  {
   "cell_type": "code",
   "execution_count": 67,
   "id": "33b6b412",
   "metadata": {},
   "outputs": [],
   "source": [
    "# Duracell sample\n",
    "n1 = 100 \n",
    "m1 = 308 \n",
    "s1 = 84 \n",
    "\n",
    "#Energizer\n",
    "n2 = 100\n",
    "m2 = 254 \n",
    "s2 = 67"
   ]
  },
  {
   "cell_type": "markdown",
   "id": "ef9b6f2d",
   "metadata": {},
   "source": [
    "since the sample size n>30 we use Z test \n",
    "\n",
    "- H0:  two population means are same       µ1=µ2\n",
    "- Ha:  two population means are not same   µ1!=µ2\n",
    "\n",
    "it is a two tail test\n",
    "it is 2 sampled Z test"
   ]
  },
  {
   "cell_type": "code",
   "execution_count": 68,
   "id": "c5fa1101",
   "metadata": {},
   "outputs": [
    {
     "name": "stdout",
     "output_type": "stream",
     "text": [
      "Observed test statistics is 5.025702668336442\n"
     ]
    }
   ],
   "source": [
    "# calculating  test statistics for 2 sampled Z test\n",
    "std_error=(s1**2/n1)+(s2**2/n2)\n",
    "T_obs=(m1-m2)/std_error**0.5\n",
    "print(\"Observed test statistics is\",T_obs)"
   ]
  },
  {
   "cell_type": "code",
   "execution_count": 70,
   "id": "a40a12ed",
   "metadata": {},
   "outputs": [
    {
     "name": "stdout",
     "output_type": "stream",
     "text": [
      "The p value is 0.039285415777427564\n"
     ]
    }
   ],
   "source": [
    "# calculating p value\n",
    "p_val=2*norm.cdf(T_obs)\n",
    "print(\"The p value is\",p_value)"
   ]
  },
  {
   "cell_type": "markdown",
   "id": "55f73aec",
   "metadata": {},
   "source": [
    "#### Conclusion\n",
    "since the p value is lesser than significance level we reject null hypo"
   ]
  },
  {
   "cell_type": "markdown",
   "id": "8964fa50",
   "metadata": {},
   "source": [
    "### Problem Statement 13:\n",
    "\n",
    "Pooled estimate of the population variance Does the data provide sufficient evidence to conclude that average percentage increase in the price of sugar differs when it is sold at two different prices? Population 1: Price of sugar = Rs. 27.50 n1 = 14 x1 = 0.317% s1 = 0.12% Population 2: Price of sugar = Rs. 20.00 n2 = 9 x2 = 0.21% s2 = 0.11%"
   ]
  },
  {
   "cell_type": "code",
   "execution_count": 73,
   "id": "d1428f45",
   "metadata": {},
   "outputs": [
    {
     "name": "stdout",
     "output_type": "stream",
     "text": [
      "T_score is 0.3931089218182991\n",
      "Critical Region is 1.7207429028118775\n"
     ]
    }
   ],
   "source": [
    "n1 = 14 \n",
    "x1 = 0.317\n",
    "s1 = 0.12 \n",
    "n2 = 9 \n",
    "x2 = 0.21 \n",
    "s2 = 0.11\n",
    "s_1=s1**2\n",
    "s_2=s2**2\n",
    "s=((n1-1)*s_1)+((n2-1)*s_2)\n",
    "n=(n1+n2-2)\n",
    "se=(s/n)**0.5\n",
    "n_1=((1/n1)+(1/n2))**0.5\n",
    "t_score=(x1-x2)/se*n_1\n",
    "\n",
    "print(f\"T_score is {t_score}\")\n",
    "print(f\"Critical Region is {t.ppf(1-0.05,df=n)}\")"
   ]
  },
  {
   "cell_type": "markdown",
   "id": "67846801",
   "metadata": {},
   "source": [
    "#### Conclusion\n",
    "T_score is 0.3931089218182991\n",
    "Critical Region is 1.7207429028118775\n",
    "*We accept null hypothesis at alpha=5%.So,average price do not increase"
   ]
  },
  {
   "cell_type": "markdown",
   "id": "4f00606c",
   "metadata": {},
   "source": [
    "## Problem Statement 14:\n",
    "\n",
    "The manufacturers of compact disk players want to test whether a small price reduction is enough to increase sales of their product. Is there evidence that the small price reduction is enough to increase sales of compact disk players? Population 1: Before reduction n1 = 15 x1 = Rs. 6598 s1 = Rs. 844 Population 2: After reduction n2 = 12 x2 = RS. 6870 s2 = Rs. 669 Population 1: Before reduction n1 = 15 x1 = Rs. 6598 s1 = Rs. 844 Population 2: After reduction n2 = 12 x2 = RS. 6870 s2 = Rs. 669\n",
    "The manufacturers of compact disk players want to test whether a small price reduction is enough to increase sales of their product. Is there evidence that the small price reduction is enough to increase sales of compact disk players? Population 1: Before reduction n1 = 15 x1 = Rs. 6598 s1 = Rs. 844 Population 2: After reduction n2 = 12 x2 = RS. 6870 s2 = Rs. 669"
   ]
  },
  {
   "cell_type": "code",
   "execution_count": 75,
   "id": "08686cbb",
   "metadata": {},
   "outputs": [
    {
     "name": "stdout",
     "output_type": "stream",
     "text": [
      "T_score is -0.1364745051598569\n",
      "Critical Region is -1.708140761251899\n"
     ]
    }
   ],
   "source": [
    "n1 = 15 \n",
    "x1 = 6598 \n",
    "s1 = 844 \n",
    "n2 = 12 \n",
    "x2 = 6870 \n",
    "s2 = 669\n",
    "s_1=s1**2\n",
    "s_2=s2**2\n",
    "\n",
    "s=((n1-1)*s_1)+((n2-1)*s_2)\n",
    "n=(n1+n2-2)\n",
    "se=(s/n)**0.5\n",
    "n_1=((1/n1)+(1/n2))**0.5\n",
    "t_score=(x1-x2)/se*n_1\n",
    "\n",
    "print(f\"T_score is {t_score}\")\n",
    "print(f\"Critical Region is {t.ppf(0.05,df=n)}\")"
   ]
  },
  {
   "cell_type": "markdown",
   "id": "012ce786",
   "metadata": {},
   "source": [
    "## Problem Statement 17:\n",
    "\n",
    "A die is thrown 132 times with the following results: Number turned up: 1, 2, 3, 4, 5, 6 Frequency: 16, 20, 25, 14, 29, 28 Is the die unbiased? Consider the degrees of freedom as 𝑝 − 1."
   ]
  },
  {
   "cell_type": "code",
   "execution_count": 11,
   "id": "9704f370",
   "metadata": {},
   "outputs": [
    {
     "name": "stdout",
     "output_type": "stream",
     "text": [
      "Observed Chi square test statistic is 9.0 and p value is 0.1090641579497725\n"
     ]
    }
   ],
   "source": [
    "from scipy.stats import chisquare\n",
    "observed=[16,20,25,14,29,28]\n",
    "expected=[22,22,22,22,22,22]\n",
    "\n",
    "# performing chi square goodness of fit test\n",
    "result=chisquare(observed,expected)\n",
    "print(f\"Observed Chi square test statistic is {result[0]} and p value is {result[1]}\")\n",
    "\n",
    "# dice is unbiased"
   ]
  },
  {
   "cell_type": "markdown",
   "id": "a3b1b5c3",
   "metadata": {},
   "source": [
    "### Problem Statement 18:\n",
    "\n",
    "In a certain town, there are about one million eligible voters. A simple random\n",
    "sample of 10,000 eligible voters was chosen to study the relationship between\n",
    "gender and participation in the last election. The results are summarized in the\n",
    "following 2X2 (read two by two) contingency table:"
   ]
  },
  {
   "cell_type": "code",
   "execution_count": 23,
   "id": "9b14c653",
   "metadata": {},
   "outputs": [
    {
     "name": "stdout",
     "output_type": "stream",
     "text": [
      "The p value is 0.01047464310091866\n"
     ]
    }
   ],
   "source": [
    "import pandas as pd\n",
    "from scipy.stats import chi2_contingency\n",
    "datas={\"Men\":[2792,1486],\"Women\":[3591,2131]}\n",
    "idx=['Voted','Not Voted']\n",
    "df=pd.DataFrame(data=datas,index=idx)\n",
    "\n",
    "# performing chi sqaure independence test\n",
    "chi2,p_val,dof,expected=chi2_contingency(df)\n",
    "\n",
    "print(f\"The p value is {p_val}\")"
   ]
  },
  {
   "cell_type": "markdown",
   "id": "53dd2512",
   "metadata": {},
   "source": [
    "#### Conclusion\n",
    "since p value is less than significance level we reject null hypothesis"
   ]
  },
  {
   "cell_type": "markdown",
   "id": "811fa36e",
   "metadata": {},
   "source": [
    "## Problem Statement 19:\n",
    "\n",
    "A sample of 100 voters are asked which of four candidates they would vote for in an\n",
    "election. The number supporting each candidate is given below:"
   ]
  },
  {
   "cell_type": "code",
   "execution_count": 27,
   "id": "e85b3804",
   "metadata": {},
   "outputs": [
    {
     "name": "stdout",
     "output_type": "stream",
     "text": [
      "Observed Chi square test statistic is 14.959999999999999 and p value is 0.001851152735284203\n"
     ]
    }
   ],
   "source": [
    "obs=[41,19,24,16]\n",
    "exp=[25,25,25,25]\n",
    "\n",
    "# performing the chi square goodness of fit test\n",
    "res=chisquare(obs,exp)\n",
    "print(f\"Observed Chi square test statistic is {res[0]} and p value is {res[1]}\")"
   ]
  },
  {
   "cell_type": "markdown",
   "id": "f5e2cecc",
   "metadata": {},
   "source": [
    "## Conclusion\n",
    "\n",
    "since p value is less than significance level we reject null hypo"
   ]
  },
  {
   "cell_type": "markdown",
   "id": "cec69bac",
   "metadata": {},
   "source": [
    "## Problem Statement 20:\n",
    "\n",
    "Children of three ages are asked to indicate their preference for three photographs of adults. Do the data suggest that there is a significant relationship between age and photograph preference? What is wrong with this study? [Chi-Square = 29.6, with 4 df: 𝑝"
   ]
  },
  {
   "cell_type": "code",
   "execution_count": 31,
   "id": "91a67609",
   "metadata": {},
   "outputs": [],
   "source": [
    "datas={\"A\":[18,2,20],\"B\":[22,28,10],\"C\":[20,40,40]}\n",
    "idx=['5-6 Yrs','7-8 Yrs','9-10 Yrs']\n",
    "df=pd.DataFrame(data=datas,index=idx)"
   ]
  },
  {
   "cell_type": "code",
   "execution_count": 32,
   "id": "0f495359",
   "metadata": {},
   "outputs": [
    {
     "name": "stdout",
     "output_type": "stream",
     "text": [
      "The p value is 5.894582174262606e-06\n"
     ]
    }
   ],
   "source": [
    "# performing chi square test of independence\n",
    "chi2,p_val,dof,expected=chi2_contingency(df)\n",
    "\n",
    "print(\"The p value is\",p_val)"
   ]
  },
  {
   "cell_type": "markdown",
   "id": "79d214ec",
   "metadata": {},
   "source": [
    "#### Conclusion\n",
    "\n",
    "since our p value is less than the significance level we reject null hypo\n",
    "\n"
   ]
  },
  {
   "cell_type": "markdown",
   "id": "76578ec8",
   "metadata": {},
   "source": [
    "## Problem Statement 21:\n",
    "A study of conformity using the Asch paradigm involved two conditions: one where one confederate supported the true judgement and another where no confederate gave the correct response."
   ]
  },
  {
   "cell_type": "code",
   "execution_count": 36,
   "id": "e4718ee7",
   "metadata": {},
   "outputs": [
    {
     "name": "stdout",
     "output_type": "stream",
     "text": [
      "Chi Square value is 18.10344827586207\n",
      "Critical region with 1df and alpha=0.001 is 10.83\n",
      "We reject null hypoythesis.So,there is significant difference between the 'support' and 'no support' condition\n"
     ]
    }
   ],
   "source": [
    "import numpy as np\n",
    "obs=np.array([[18,40],[32,10]])\n",
    "result=chi2_contingency(obs)\n",
    "print(f\"Chi Square value is {result[0]}\")\n",
    "print(f\"Critical region with 1df and alpha=0.001 is 10.83\")\n",
    "print(\"We reject null hypoythesis.So,there is significant difference between the 'support' and 'no support' condition\")"
   ]
  },
  {
   "cell_type": "markdown",
   "id": "f89205b4",
   "metadata": {},
   "source": [
    "## Problem Statement 22:\n",
    "We want to test whether short people differ with respect to their leadership qualities (Genghis Khan, Adolf Hitler and Napoleon were all stature-deprived, and how many midget MP's are there?) The following table shows the frequencies with which 43 short people and 52 tall people were categorized as \"leaders\", \"followers\" or as \"unclassifiable\". Is there a relationship between height and leadership qualities? [Chi-Square = 10.71, with 2 df: 𝑝 < 0.01]."
   ]
  },
  {
   "cell_type": "code",
   "execution_count": 37,
   "id": "89027f70",
   "metadata": {},
   "outputs": [
    {
     "name": "stdout",
     "output_type": "stream",
     "text": [
      "Chi Square value is 10.712198008709638\n",
      "Critical region with 2df and alpha=0.001 is 13.82\n",
      "We accept null hypothesis.there is no relationship between height and leadership qualities\n"
     ]
    }
   ],
   "source": [
    "obs=([[12,32],[22,14],[9,6]])\n",
    "result=chi2_contingency(obs)\n",
    "print(f\"Chi Square value is {result[0]}\")\n",
    "print(f\"Critical region with 2df and alpha=0.001 is 13.82\")\n",
    "print(\"We accept null hypothesis.there is no relationship between height and leadership qualities\")"
   ]
  },
  {
   "cell_type": "markdown",
   "id": "cdb314ca",
   "metadata": {},
   "source": [
    "## Problem Statement 23:\n",
    "\n",
    "Each respondent in the Current Population Survey of March 1993 was classified as employed, unemployed, or outside the labor force. The results for men in California age 35- 44 can be cross-tabulated by marital status, as follows:"
   ]
  },
  {
   "cell_type": "code",
   "execution_count": 38,
   "id": "c2f85a5a",
   "metadata": {},
   "outputs": [
    {
     "name": "stdout",
     "output_type": "stream",
     "text": [
      "Chi Square value is 31.61310319407798\n",
      "Critical region with 4df and alpha=0.001 is 18.47\n",
      "We reject null hypothesis at alpha=0.001 .there is relationship between martial status and employment status\n"
     ]
    }
   ],
   "source": [
    "obs = np.array([[679,103,114], [63,10,20],[42,18,25]])\n",
    "result=chi2_contingency(obs)\n",
    "print(f\"Chi Square value is {result[0]}\")\n",
    "print(f\"Critical region with 4df and alpha=0.001 is 18.47\")\n",
    "print(\"We reject null hypothesis at alpha=0.001 .there is relationship between martial status and employment status\")"
   ]
  },
  {
   "cell_type": "code",
   "execution_count": null,
   "id": "95c2c6db",
   "metadata": {},
   "outputs": [],
   "source": []
  }
 ],
 "metadata": {
  "kernelspec": {
   "display_name": "Python 3 (ipykernel)",
   "language": "python",
   "name": "python3"
  },
  "language_info": {
   "codemirror_mode": {
    "name": "ipython",
    "version": 3
   },
   "file_extension": ".py",
   "mimetype": "text/x-python",
   "name": "python",
   "nbconvert_exporter": "python",
   "pygments_lexer": "ipython3",
   "version": "3.11.0"
  }
 },
 "nbformat": 4,
 "nbformat_minor": 5
}
