{
 "cells": [
  {
   "cell_type": "markdown",
   "id": "a9fc6ce2",
   "metadata": {},
   "source": [
    "## Problem Statement 1\n",
    "\n",
    "Blood glucose levels for obese patients have a mean of 100 with a standard deviation of\n",
    "15. A researcher thinks that a diet high in raw cornstarch will have a positive effect on\n",
    "blood glucose levels. A sample of 36 patients who have tried the raw cornstarch diet\n",
    "have a mean glucose level of 108. Test the hypothesis that the raw cornstarch had an\n",
    "effect or not."
   ]
  },
  {
   "cell_type": "code",
   "execution_count": 7,
   "id": "e927f1bb",
   "metadata": {},
   "outputs": [],
   "source": [
    "from scipy.stats import norm\n",
    "pop_mean=100\n",
    "pop_sd=15\n",
    "n=36\n",
    "samp_mean=108\n",
    "alpha=0.05"
   ]
  },
  {
   "cell_type": "markdown",
   "id": "c352dadb",
   "metadata": {},
   "source": [
    "- Since the sample size n>30 we are performing Z test \n",
    "- Since we are testing single sample against the whole population we are going to perform One sampled Z-Test\n",
    "- it is a two tailed test "
   ]
  },
  {
   "cell_type": "markdown",
   "id": "27eaa4cb",
   "metadata": {},
   "source": [
    "- µ1 --> Whole population of obsese patients having a diet normal in raw cornstarch\n",
    "- µ2 --> Whole population of obese patients having a diet high in raw cornstarch"
   ]
  },
  {
   "cell_type": "markdown",
   "id": "09c54f2f",
   "metadata": {},
   "source": [
    "#### Null Hypothesis H0:  µ1=µ2 \n",
    "- having diet high in raw cornstarch has no effect"
   ]
  },
  {
   "cell_type": "markdown",
   "id": "c4e3a654",
   "metadata": {},
   "source": [
    "#### Alternate Hypothesis Ha: µ1!=µ2\n",
    "- having diet high in raw cornstarch has some effect"
   ]
  },
  {
   "cell_type": "code",
   "execution_count": 8,
   "id": "1cd409c2",
   "metadata": {},
   "outputs": [
    {
     "name": "stdout",
     "output_type": "stream",
     "text": [
      "Observed test statistic is 3.2\n"
     ]
    }
   ],
   "source": [
    "# calculating observed test statistics\n",
    "\n",
    "std_error= pop_sd/(n**0.5)\n",
    "T_obs= (samp_mean-pop_mean)/std_error\n",
    "print(f\"Observed test statistic is {T_obs}\")"
   ]
  },
  {
   "cell_type": "code",
   "execution_count": 15,
   "id": "574044f6",
   "metadata": {},
   "outputs": [
    {
     "name": "stdout",
     "output_type": "stream",
     "text": [
      "P value is 0.0013742758758317208\n"
     ]
    }
   ],
   "source": [
    "# calculating p_value\n",
    "p_val=2*(1-norm.cdf(3.2))\n",
    "print(f\"P value is {p_val}\")"
   ]
  },
  {
   "cell_type": "markdown",
   "id": "860a898a",
   "metadata": {},
   "source": [
    "- since our p value is Less than significance level we reject Null hypothesis and accept alternate hypothesis"
   ]
  },
  {
   "cell_type": "markdown",
   "id": "5cdaaf3a",
   "metadata": {},
   "source": [
    "### Conclusion\n",
    "\n",
    "- the raw cornstarch had an effect."
   ]
  },
  {
   "cell_type": "markdown",
   "id": "e273f72d",
   "metadata": {},
   "source": [
    "## Problem statement 2\n",
    "In one state, 52% of the voters are Republicans, and 48% are Democrats. In a second\n",
    "state, 47% of the voters are Republicans, and 53% are Democrats. Suppose a simple\n",
    "random sample of 100 voters are surveyed from each state.\n",
    "What is the probability that the survey will show a greater percentage of Republican\n",
    "voters in the second state than in the first state?"
   ]
  },
  {
   "cell_type": "code",
   "execution_count": 18,
   "id": "3186c43f",
   "metadata": {},
   "outputs": [
    {
     "name": "stdout",
     "output_type": "stream",
     "text": [
      "mu: 0.050000000000000044\n",
      "std: 0.07061869440877536\n",
      "Z_p1_p2 : -0.7080278164104213\n"
     ]
    }
   ],
   "source": [
    "import math\n",
    "n1 = 100\n",
    "n2 = 100\n",
    "R1 = 0.52            #Republicans from state 1\n",
    "D1 = 0.48            #Democrats from state 1\n",
    "R2 = 0.47            #Republicans from state 2\n",
    "D2 = 0.53            #Democrats from state 2\n",
    "\n",
    "mu = R1 - R2\n",
    "print(f\"mu: {mu}\")\n",
    "std = math.sqrt(((R1 * D1 ) / n1) + ((R2 * D2) /n2))\n",
    "print(f\"std: {std}\")\n",
    "\n",
    "#This problem requires us to find the probability that p1 is less than p2. \n",
    "#This is equivalent to finding the probability that R1 - R2 < 0. \n",
    "x = 0\n",
    "#To find this probability, we need to transform the random variable (R1 - R2) into a z-score. \n",
    "#That transformation appears below.\n",
    "\n",
    "Z_R1_R2 = ( x - mu)/std\n",
    "print(f\"Z_p1_p2 : {Z_R1_R2}\")\n",
    "\n",
    "#From Z table we find that the probability of a z-score being -0.7082 or less is 0.24.\n",
    "\n",
    "#Therefore, the probability that the survey will show a greater percentage of Republican voters \n",
    "#in the second state than in the first state is 0.24"
   ]
  },
  {
   "cell_type": "markdown",
   "id": "9ec6e0a5",
   "metadata": {},
   "source": [
    "## Problem Statement 3\n",
    "\n",
    "You take the SAT and score 1100. The mean score for the SAT is 1026 and the standard\n",
    "deviation is 209. How well did you score on the test compared to the average test taker?"
   ]
  },
  {
   "cell_type": "code",
   "execution_count": 19,
   "id": "f563caf8",
   "metadata": {},
   "outputs": [],
   "source": [
    "mean=1026\n",
    "SD=209\n",
    "mark=1100"
   ]
  },
  {
   "cell_type": "markdown",
   "id": "f16e94bb",
   "metadata": {},
   "source": [
    "- in the question they are asking  How well did you score on the test compared to the average test taker\n",
    "- they are literally asking how much std deviations that we are away from the mean ie the Z Score of our mark"
   ]
  },
  {
   "cell_type": "code",
   "execution_count": 21,
   "id": "bd797ec2",
   "metadata": {},
   "outputs": [
    {
     "name": "stdout",
     "output_type": "stream",
     "text": [
      "The Z Score is 0.35406698564593303\n"
     ]
    }
   ],
   "source": [
    "z_score=(mark-mean)/SD\n",
    "print(f\"The Z Score is {z_score}\")"
   ]
  },
  {
   "cell_type": "code",
   "execution_count": null,
   "id": "10083a37",
   "metadata": {},
   "outputs": [],
   "source": []
  }
 ],
 "metadata": {
  "kernelspec": {
   "display_name": "Python 3 (ipykernel)",
   "language": "python",
   "name": "python3"
  },
  "language_info": {
   "codemirror_mode": {
    "name": "ipython",
    "version": 3
   },
   "file_extension": ".py",
   "mimetype": "text/x-python",
   "name": "python",
   "nbconvert_exporter": "python",
   "pygments_lexer": "ipython3",
   "version": "3.11.0"
  }
 },
 "nbformat": 4,
 "nbformat_minor": 5
}
